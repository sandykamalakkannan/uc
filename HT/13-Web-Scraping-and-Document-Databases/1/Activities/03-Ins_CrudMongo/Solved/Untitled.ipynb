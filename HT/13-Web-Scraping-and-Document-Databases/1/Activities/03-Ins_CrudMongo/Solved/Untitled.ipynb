{
 "cells": [
  {
   "cell_type": "code",
   "execution_count": 5,
   "metadata": {},
   "outputs": [],
   "source": [
    "import pymongo"
   ]
  },
  {
   "cell_type": "code",
   "execution_count": 12,
   "metadata": {},
   "outputs": [],
   "source": [
    "# The default port used by MongoDB is 27017\n",
    "# https://docs.mongodb.com/manual/reference/default-mongodb-port/\n",
    "conn = 'mongodb://localhost:27017'\n",
    "client = pymongo.MongoClient(conn)\n",
    "\n"
   ]
  },
  {
   "cell_type": "code",
   "execution_count": 16,
   "metadata": {},
   "outputs": [],
   "source": [
    "\n",
    "# Define the 'classDB' database in Mongo\n",
    "db = client.ClassDB\n",
    "\n",
    "# Query all students\n",
    "# Here, db.students refers to the collection 'classroom '\n",
    "classroom = db.students.find()"
   ]
  },
  {
   "cell_type": "code",
   "execution_count": 17,
   "metadata": {},
   "outputs": [
    {
     "name": "stdout",
     "output_type": "stream",
     "text": [
      "{'_id': ObjectId('5b88a9f484d7b816a3202052'), 'Name': 'Sangeetha', 'favorite_python_library': 'pandas', 'age': '34'}\n",
      "{'_id': ObjectId('5b88ab1384d7b816a3202053'), 'Name': 'Dhanu', 'favorite_python_library': 'pymongo', 'age': '34'}\n",
      "{'_id': ObjectId('5b88c08c2621ec1cdd2f5049'), 'name': 'Ahmed', 'row': 3, 'favorite_python_library': 'Matplotlib', 'hobbies': ['Running', 'Stargazing', 'Reading']}\n"
     ]
    }
   ],
   "source": [
    "# Iterate through each student in the collection\n",
    "for student in classroom:\n",
    "    print(student)\n",
    "\n"
   ]
  },
  {
   "cell_type": "code",
   "execution_count": 15,
   "metadata": {},
   "outputs": [
    {
     "data": {
      "text/plain": [
       "<pymongo.results.InsertOneResult at 0x1117a9b48>"
      ]
     },
     "execution_count": 15,
     "metadata": {},
     "output_type": "execute_result"
    }
   ],
   "source": [
    "# Insert a document into the 'students' collection\n",
    "db.students.insert_one(\n",
    "    {\n",
    "        'name': 'Ahmed',\n",
    "        'row': 3,\n",
    "        'favorite_python_library': 'Matplotlib',\n",
    "        'hobbies': ['Running', 'Stargazing', 'Reading']\n",
    "    }\n",
    ")\n",
    "\n",
    "\n"
   ]
  },
  {
   "cell_type": "code",
   "execution_count": 18,
   "metadata": {},
   "outputs": [
    {
     "data": {
      "text/plain": [
       "<pymongo.results.UpdateResult at 0x1117a9e88>"
      ]
     },
     "execution_count": 18,
     "metadata": {},
     "output_type": "execute_result"
    }
   ],
   "source": [
    "\n",
    "# Add an item to a document array\n",
    "db.classroom.update_one(\n",
    "    {'name': 'Ahmed'},\n",
    "    {'$push':\n",
    "        {'hobbies': 'Listening to country music'}\n",
    "     }\n",
    ")"
   ]
  },
  {
   "cell_type": "code",
   "execution_count": 19,
   "metadata": {},
   "outputs": [
    {
     "data": {
      "text/plain": [
       "<pymongo.results.UpdateResult at 0x111799488>"
      ]
     },
     "execution_count": 19,
     "metadata": {},
     "output_type": "execute_result"
    }
   ],
   "source": [
    "# Delete a field from a document\n",
    "db.classroom.update_one({'name': 'Ahmed'},\n",
    "                        {'$unset':\n",
    "                         {'gavecandy': \"\"}\n",
    "                         }\n",
    "                        )\n",
    "\n"
   ]
  },
  {
   "cell_type": "code",
   "execution_count": 20,
   "metadata": {},
   "outputs": [
    {
     "data": {
      "text/plain": [
       "<pymongo.results.DeleteResult at 0x111799208>"
      ]
     },
     "execution_count": 20,
     "metadata": {},
     "output_type": "execute_result"
    }
   ],
   "source": [
    "\n",
    "# Delete a document from a collection\n",
    "db.classroom.delete_one(\n",
    "    {'name': 'Ahmed'}\n",
    ")"
   ]
  },
  {
   "cell_type": "code",
   "execution_count": null,
   "metadata": {},
   "outputs": [],
   "source": []
  }
 ],
 "metadata": {
  "kernelspec": {
   "display_name": "Python 3",
   "language": "python",
   "name": "python3"
  },
  "language_info": {
   "codemirror_mode": {
    "name": "ipython",
    "version": 3
   },
   "file_extension": ".py",
   "mimetype": "text/x-python",
   "name": "python",
   "nbconvert_exporter": "python",
   "pygments_lexer": "ipython3",
   "version": "3.6.5"
  }
 },
 "nbformat": 4,
 "nbformat_minor": 2
}
